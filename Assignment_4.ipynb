{
 "cells": [
  {
   "cell_type": "markdown",
   "metadata": {},
   "source": [
    "# Installing Packages"
   ]
  },
  {
   "cell_type": "markdown",
   "metadata": {},
   "source": [
    "shiny: Package to build interactive web applications in R.\n",
    "\n",
    "ggplot2: Package for creating graphics (though not used in this case).\n",
    "\n",
    "plotly: Used to create interactive plots.\n",
    "\n",
    "shinythemes: Provides pre-built themes for a better UI (not explicitly used in this code)."
   ]
  },
  {
   "cell_type": "code",
   "execution_count": null,
   "metadata": {},
   "outputs": [],
   "source": [
    "install.packages(\"shiny\")\n",
    "install.packages(\"ggplot2\")\n",
    "install.packages(\"plotly\")\n",
    "install.packages(\"shinythemes\")\n",
    "\n",
    "library(shiny)\n",
    "library(ggplot2)\n",
    "library(plotly)\n",
    "library(shinythemes)"
   ]
  },
  {
   "cell_type": "markdown",
   "metadata": {},
   "source": [
    "# UI"
   ]
  },
  {
   "cell_type": "markdown",
   "metadata": {},
   "source": [
    "fluidPage(): Creates a responsive web layout.\n",
    "\n",
    "titlePanel(): Displays the title of the app with an emoji (\"🏋️ Simple Fitness Tracker\").\n",
    "sidebarLayout(): Defines a two-panel structure:\n",
    "\n",
    "Sidebar (sidebarPanel): Includes:\n",
    "\n",
    "dateInput(): A date picker (defaults to the current date).\n",
    "\n",
    "numericInput(): Allows the user to enter weight (default: 70 kg).\n",
    "\n",
    "Another numericInput(): Allows entry of workout duration in minutes (default: 30 min).\n",
    "\n",
    "actionButton(): A button labeled \"Add Entry\" to submit data.\n",
    "\n",
    "Main panel (mainPanel): Displays an interactive plot (plotlyOutput(\"progressPlot\"))."
   ]
  },
  {
   "cell_type": "code",
   "execution_count": null,
   "metadata": {},
   "outputs": [],
   "source": [
    "ui <- fluidPage(\n",
    "  titlePanel(\"\\U0001F3CB\\uFE0F Simple Fitness Tracker\"),\n",
    "  sidebarLayout(\n",
    "    sidebarPanel(\n",
    "      dateInput(\"date\", \"Date:\", Sys.Date()),\n",
    "      numericInput(\"weight\", \"Weight (kg):\", 70),\n",
    "      numericInput(\"workout\", \"Workout (min):\", 30),\n",
    "      actionButton(\"add\", \"Add Entry\")\n",
    "    ),\n",
    "    mainPanel(\n",
    "      plotlyOutput(\"progressPlot\")\n",
    "    )\n",
    "  )\n",
    ")"
   ]
  },
  {
   "cell_type": "markdown",
   "metadata": {},
   "source": [
    "# Content"
   ]
  },
  {
   "cell_type": "markdown",
   "metadata": {},
   "source": [
    "reactiveVal(): Creates a reactive data frame to store user inputs dynamically.\n",
    "\n",
    "Initially, the dataset is empty, with three columns: Date, Weight, Workout."
   ]
  },
  {
   "cell_type": "code",
   "execution_count": null,
   "metadata": {},
   "outputs": [],
   "source": [
    "server <- function(input, output) {\n",
    "  data <- reactiveVal(data.frame(\n",
    "    Date = as.Date(character()),\n",
    "    Weight = numeric(),\n",
    "    Workout = numeric()\n",
    "))"
   ]
  },
  {
   "cell_type": "markdown",
   "metadata": {},
   "source": [
    "# User Input"
   ]
  },
  {
   "cell_type": "markdown",
   "metadata": {},
   "source": [
    "observeEvent(input$add, { ... }): Executes code when the \"Add Entry\" button is clicked.\n",
    "\n",
    "Creates a new row with the user's date, weight, and workout duration.\n",
    "\n",
    "Appends the new row to the existing data using rbind()."
   ]
  },
  {
   "cell_type": "code",
   "execution_count": null,
   "metadata": {},
   "outputs": [],
   "source": [
    "observeEvent(input$add, {\n",
    "new_row <- data.frame(\n",
    "    Date = input$date,\n",
    "    Weight = input$weight,\n",
    "    Workout = input$workout\n",
    ")\n",
    "data(rbind(data(), new_row))\n",
    "})\n"
   ]
  },
  {
   "cell_type": "markdown",
   "metadata": {},
   "source": [
    "# Plot"
   ]
  },
  {
   "cell_type": "markdown",
   "metadata": {},
   "source": [
    "renderPlotly(): Dynamically generates a plotly chart.\n",
    "\n",
    "plot_ly(data()): Creates a plotly graph using the stored data.\n",
    "\n",
    "add_lines():\n",
    "One line plots Weight over time.\n",
    "Another plots Workout time on a secondary y-axis (yaxis2).\n",
    "\n",
    "layout():\n",
    "Titles the graph: \"Progress Over Time\".\n",
    "Sets primary y-axis for weight and secondary y-axis for workout time."
   ]
  },
  {
   "cell_type": "code",
   "execution_count": null,
   "metadata": {},
   "outputs": [],
   "source": [
    "output$progressPlot <- renderPlotly({\n",
    "if(nrow(data()) == 0) return()\n",
    "plot_ly(data()) %>%\n",
    "    add_lines(x = ~Date, y = ~Weight, name = \"Weight\") %>%\n",
    "    add_lines(x = ~Date, y = ~Workout, name = \"Workout\", yaxis = \"y2\") %>%\n",
    "    layout(\n",
    "    title = \"Progress Over Time\",\n",
    "    yaxis = list(title = \"Weight (kg)\"),\n",
    "    yaxis2 = list(title = \"Workout (min)\", overlaying = \"y\", side = \"right\")\n",
    "    )\n",
    "})\n",
    "shinyApp(ui, server)"
   ]
  }
 ],
 "metadata": {
  "kernelspec": {
   "display_name": "Python 3 (ipykernel)",
   "language": "python",
   "name": "python3"
  },
  "language_info": {
   "codemirror_mode": {
    "name": "ipython",
    "version": 3
   },
   "file_extension": ".py",
   "mimetype": "text/x-python",
   "name": "python",
   "nbconvert_exporter": "python",
   "pygments_lexer": "ipython3",
   "version": "3.12.3"
  }
 },
 "nbformat": 4,
 "nbformat_minor": 4
}
